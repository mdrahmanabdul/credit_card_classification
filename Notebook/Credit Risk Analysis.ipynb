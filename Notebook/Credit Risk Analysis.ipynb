{
 "cells": [
  {
   "cell_type": "markdown",
   "id": "5db4d2d8",
   "metadata": {},
   "source": [
    "# Let us import the dependencies"
   ]
  },
  {
   "cell_type": "code",
   "execution_count": 1,
   "id": "01aa65de",
   "metadata": {},
   "outputs": [],
   "source": [
    "import numpy as np\n",
    "import pandas as pd \n",
    "import seaborn as sns\n",
    "import matplotlib.pyplot as plt"
   ]
  },
  {
   "cell_type": "code",
   "execution_count": 2,
   "id": "cc17f968",
   "metadata": {},
   "outputs": [],
   "source": [
    "credit_df = pd.read_csv('/Users/rahman/Downloads/Credit.csv')"
   ]
  },
  {
   "cell_type": "code",
   "execution_count": 3,
   "id": "ca705ae5",
   "metadata": {},
   "outputs": [
    {
     "data": {
      "text/html": [
       "<div>\n",
       "<style scoped>\n",
       "    .dataframe tbody tr th:only-of-type {\n",
       "        vertical-align: middle;\n",
       "    }\n",
       "\n",
       "    .dataframe tbody tr th {\n",
       "        vertical-align: top;\n",
       "    }\n",
       "\n",
       "    .dataframe thead th {\n",
       "        text-align: right;\n",
       "    }\n",
       "</style>\n",
       "<table border=\"1\" class=\"dataframe\">\n",
       "  <thead>\n",
       "    <tr style=\"text-align: right;\">\n",
       "      <th></th>\n",
       "      <th>Unnamed: 0</th>\n",
       "      <th>Default</th>\n",
       "      <th>checkingstatus1</th>\n",
       "      <th>duration</th>\n",
       "      <th>history</th>\n",
       "      <th>purpose</th>\n",
       "      <th>amount</th>\n",
       "      <th>savings</th>\n",
       "      <th>employ</th>\n",
       "      <th>installment</th>\n",
       "      <th>sex</th>\n",
       "      <th>residence</th>\n",
       "      <th>age</th>\n",
       "      <th>housing</th>\n",
       "      <th>cards</th>\n",
       "      <th>liable</th>\n",
       "      <th>tele</th>\n",
       "      <th>foreign</th>\n",
       "    </tr>\n",
       "  </thead>\n",
       "  <tbody>\n",
       "    <tr>\n",
       "      <th>0</th>\n",
       "      <td>1</td>\n",
       "      <td>0</td>\n",
       "      <td>&lt;DM0</td>\n",
       "      <td>6</td>\n",
       "      <td>terrible</td>\n",
       "      <td>goods/repair</td>\n",
       "      <td>1169</td>\n",
       "      <td>DM0-100</td>\n",
       "      <td>7+years</td>\n",
       "      <td>4</td>\n",
       "      <td>male</td>\n",
       "      <td>4</td>\n",
       "      <td>67</td>\n",
       "      <td>own</td>\n",
       "      <td>2</td>\n",
       "      <td>1</td>\n",
       "      <td>yes</td>\n",
       "      <td>foreign</td>\n",
       "    </tr>\n",
       "    <tr>\n",
       "      <th>1</th>\n",
       "      <td>2</td>\n",
       "      <td>1</td>\n",
       "      <td>DM0-200</td>\n",
       "      <td>48</td>\n",
       "      <td>poor</td>\n",
       "      <td>goods/repair</td>\n",
       "      <td>5951</td>\n",
       "      <td>DM0-100</td>\n",
       "      <td>1-7years</td>\n",
       "      <td>2</td>\n",
       "      <td>female</td>\n",
       "      <td>2</td>\n",
       "      <td>22</td>\n",
       "      <td>own</td>\n",
       "      <td>1</td>\n",
       "      <td>1</td>\n",
       "      <td>no</td>\n",
       "      <td>foreign</td>\n",
       "    </tr>\n",
       "    <tr>\n",
       "      <th>2</th>\n",
       "      <td>3</td>\n",
       "      <td>0</td>\n",
       "      <td>NoAccount</td>\n",
       "      <td>12</td>\n",
       "      <td>terrible</td>\n",
       "      <td>edu</td>\n",
       "      <td>2096</td>\n",
       "      <td>DM0-100</td>\n",
       "      <td>1-7years</td>\n",
       "      <td>2</td>\n",
       "      <td>male</td>\n",
       "      <td>3</td>\n",
       "      <td>49</td>\n",
       "      <td>own</td>\n",
       "      <td>1</td>\n",
       "      <td>2</td>\n",
       "      <td>no</td>\n",
       "      <td>foreign</td>\n",
       "    </tr>\n",
       "    <tr>\n",
       "      <th>3</th>\n",
       "      <td>4</td>\n",
       "      <td>0</td>\n",
       "      <td>&lt;DM0</td>\n",
       "      <td>42</td>\n",
       "      <td>poor</td>\n",
       "      <td>goods/repair</td>\n",
       "      <td>7882</td>\n",
       "      <td>DM0-100</td>\n",
       "      <td>1-7years</td>\n",
       "      <td>2</td>\n",
       "      <td>male</td>\n",
       "      <td>4</td>\n",
       "      <td>45</td>\n",
       "      <td>forfree</td>\n",
       "      <td>1</td>\n",
       "      <td>2</td>\n",
       "      <td>no</td>\n",
       "      <td>foreign</td>\n",
       "    </tr>\n",
       "    <tr>\n",
       "      <th>4</th>\n",
       "      <td>5</td>\n",
       "      <td>1</td>\n",
       "      <td>&lt;DM0</td>\n",
       "      <td>24</td>\n",
       "      <td>poor</td>\n",
       "      <td>newcar</td>\n",
       "      <td>4870</td>\n",
       "      <td>DM0-100</td>\n",
       "      <td>1-7years</td>\n",
       "      <td>3</td>\n",
       "      <td>male</td>\n",
       "      <td>4</td>\n",
       "      <td>53</td>\n",
       "      <td>forfree</td>\n",
       "      <td>2</td>\n",
       "      <td>2</td>\n",
       "      <td>no</td>\n",
       "      <td>foreign</td>\n",
       "    </tr>\n",
       "  </tbody>\n",
       "</table>\n",
       "</div>"
      ],
      "text/plain": [
       "   Unnamed: 0  Default checkingstatus1  duration   history       purpose  \\\n",
       "0           1        0            <DM0         6  terrible  goods/repair   \n",
       "1           2        1         DM0-200        48      poor  goods/repair   \n",
       "2           3        0       NoAccount        12  terrible           edu   \n",
       "3           4        0            <DM0        42      poor  goods/repair   \n",
       "4           5        1            <DM0        24      poor        newcar   \n",
       "\n",
       "   amount  savings    employ  installment     sex  residence  age  housing  \\\n",
       "0    1169  DM0-100   7+years            4    male          4   67      own   \n",
       "1    5951  DM0-100  1-7years            2  female          2   22      own   \n",
       "2    2096  DM0-100  1-7years            2    male          3   49      own   \n",
       "3    7882  DM0-100  1-7years            2    male          4   45  forfree   \n",
       "4    4870  DM0-100  1-7years            3    male          4   53  forfree   \n",
       "\n",
       "   cards  liable tele  foreign  \n",
       "0      2       1  yes  foreign  \n",
       "1      1       1   no  foreign  \n",
       "2      1       2   no  foreign  \n",
       "3      1       2   no  foreign  \n",
       "4      2       2   no  foreign  "
      ]
     },
     "execution_count": 3,
     "metadata": {},
     "output_type": "execute_result"
    }
   ],
   "source": [
    "credit_df.head()"
   ]
  },
  {
   "cell_type": "code",
   "execution_count": 4,
   "id": "c4aad7e2",
   "metadata": {},
   "outputs": [
    {
     "name": "stdout",
     "output_type": "stream",
     "text": [
      "<class 'pandas.core.frame.DataFrame'>\n",
      "RangeIndex: 1000 entries, 0 to 999\n",
      "Data columns (total 18 columns):\n",
      " #   Column           Non-Null Count  Dtype \n",
      "---  ------           --------------  ----- \n",
      " 0   Unnamed: 0       1000 non-null   int64 \n",
      " 1   Default          1000 non-null   int64 \n",
      " 2   checkingstatus1  1000 non-null   object\n",
      " 3   duration         1000 non-null   int64 \n",
      " 4   history          1000 non-null   object\n",
      " 5   purpose          1000 non-null   object\n",
      " 6   amount           1000 non-null   int64 \n",
      " 7   savings          1000 non-null   object\n",
      " 8   employ           1000 non-null   object\n",
      " 9   installment      1000 non-null   int64 \n",
      " 10  sex              1000 non-null   object\n",
      " 11  residence        1000 non-null   int64 \n",
      " 12  age              1000 non-null   int64 \n",
      " 13  housing          1000 non-null   object\n",
      " 14  cards            1000 non-null   int64 \n",
      " 15  liable           1000 non-null   int64 \n",
      " 16  tele             1000 non-null   object\n",
      " 17  foreign          1000 non-null   object\n",
      "dtypes: int64(9), object(9)\n",
      "memory usage: 140.8+ KB\n"
     ]
    }
   ],
   "source": [
    "credit_df.info()"
   ]
  },
  {
   "cell_type": "code",
   "execution_count": 5,
   "id": "06a3e792",
   "metadata": {},
   "outputs": [],
   "source": [
    "credit_df = credit_df.drop(columns='Unnamed: 0')"
   ]
  },
  {
   "cell_type": "code",
   "execution_count": 6,
   "id": "87f61f75",
   "metadata": {},
   "outputs": [
    {
     "data": {
      "text/html": [
       "<div>\n",
       "<style scoped>\n",
       "    .dataframe tbody tr th:only-of-type {\n",
       "        vertical-align: middle;\n",
       "    }\n",
       "\n",
       "    .dataframe tbody tr th {\n",
       "        vertical-align: top;\n",
       "    }\n",
       "\n",
       "    .dataframe thead th {\n",
       "        text-align: right;\n",
       "    }\n",
       "</style>\n",
       "<table border=\"1\" class=\"dataframe\">\n",
       "  <thead>\n",
       "    <tr style=\"text-align: right;\">\n",
       "      <th></th>\n",
       "      <th>Default</th>\n",
       "      <th>checkingstatus1</th>\n",
       "      <th>duration</th>\n",
       "      <th>history</th>\n",
       "      <th>purpose</th>\n",
       "      <th>amount</th>\n",
       "      <th>savings</th>\n",
       "      <th>employ</th>\n",
       "      <th>installment</th>\n",
       "      <th>sex</th>\n",
       "      <th>residence</th>\n",
       "      <th>age</th>\n",
       "      <th>housing</th>\n",
       "      <th>cards</th>\n",
       "      <th>liable</th>\n",
       "      <th>tele</th>\n",
       "      <th>foreign</th>\n",
       "    </tr>\n",
       "  </thead>\n",
       "  <tbody>\n",
       "    <tr>\n",
       "      <th>0</th>\n",
       "      <td>0</td>\n",
       "      <td>&lt;DM0</td>\n",
       "      <td>6</td>\n",
       "      <td>terrible</td>\n",
       "      <td>goods/repair</td>\n",
       "      <td>1169</td>\n",
       "      <td>DM0-100</td>\n",
       "      <td>7+years</td>\n",
       "      <td>4</td>\n",
       "      <td>male</td>\n",
       "      <td>4</td>\n",
       "      <td>67</td>\n",
       "      <td>own</td>\n",
       "      <td>2</td>\n",
       "      <td>1</td>\n",
       "      <td>yes</td>\n",
       "      <td>foreign</td>\n",
       "    </tr>\n",
       "    <tr>\n",
       "      <th>1</th>\n",
       "      <td>1</td>\n",
       "      <td>DM0-200</td>\n",
       "      <td>48</td>\n",
       "      <td>poor</td>\n",
       "      <td>goods/repair</td>\n",
       "      <td>5951</td>\n",
       "      <td>DM0-100</td>\n",
       "      <td>1-7years</td>\n",
       "      <td>2</td>\n",
       "      <td>female</td>\n",
       "      <td>2</td>\n",
       "      <td>22</td>\n",
       "      <td>own</td>\n",
       "      <td>1</td>\n",
       "      <td>1</td>\n",
       "      <td>no</td>\n",
       "      <td>foreign</td>\n",
       "    </tr>\n",
       "    <tr>\n",
       "      <th>2</th>\n",
       "      <td>0</td>\n",
       "      <td>NoAccount</td>\n",
       "      <td>12</td>\n",
       "      <td>terrible</td>\n",
       "      <td>edu</td>\n",
       "      <td>2096</td>\n",
       "      <td>DM0-100</td>\n",
       "      <td>1-7years</td>\n",
       "      <td>2</td>\n",
       "      <td>male</td>\n",
       "      <td>3</td>\n",
       "      <td>49</td>\n",
       "      <td>own</td>\n",
       "      <td>1</td>\n",
       "      <td>2</td>\n",
       "      <td>no</td>\n",
       "      <td>foreign</td>\n",
       "    </tr>\n",
       "    <tr>\n",
       "      <th>3</th>\n",
       "      <td>0</td>\n",
       "      <td>&lt;DM0</td>\n",
       "      <td>42</td>\n",
       "      <td>poor</td>\n",
       "      <td>goods/repair</td>\n",
       "      <td>7882</td>\n",
       "      <td>DM0-100</td>\n",
       "      <td>1-7years</td>\n",
       "      <td>2</td>\n",
       "      <td>male</td>\n",
       "      <td>4</td>\n",
       "      <td>45</td>\n",
       "      <td>forfree</td>\n",
       "      <td>1</td>\n",
       "      <td>2</td>\n",
       "      <td>no</td>\n",
       "      <td>foreign</td>\n",
       "    </tr>\n",
       "    <tr>\n",
       "      <th>4</th>\n",
       "      <td>1</td>\n",
       "      <td>&lt;DM0</td>\n",
       "      <td>24</td>\n",
       "      <td>poor</td>\n",
       "      <td>newcar</td>\n",
       "      <td>4870</td>\n",
       "      <td>DM0-100</td>\n",
       "      <td>1-7years</td>\n",
       "      <td>3</td>\n",
       "      <td>male</td>\n",
       "      <td>4</td>\n",
       "      <td>53</td>\n",
       "      <td>forfree</td>\n",
       "      <td>2</td>\n",
       "      <td>2</td>\n",
       "      <td>no</td>\n",
       "      <td>foreign</td>\n",
       "    </tr>\n",
       "  </tbody>\n",
       "</table>\n",
       "</div>"
      ],
      "text/plain": [
       "   Default checkingstatus1  duration   history       purpose  amount  savings  \\\n",
       "0        0            <DM0         6  terrible  goods/repair    1169  DM0-100   \n",
       "1        1         DM0-200        48      poor  goods/repair    5951  DM0-100   \n",
       "2        0       NoAccount        12  terrible           edu    2096  DM0-100   \n",
       "3        0            <DM0        42      poor  goods/repair    7882  DM0-100   \n",
       "4        1            <DM0        24      poor        newcar    4870  DM0-100   \n",
       "\n",
       "     employ  installment     sex  residence  age  housing  cards  liable tele  \\\n",
       "0   7+years            4    male          4   67      own      2       1  yes   \n",
       "1  1-7years            2  female          2   22      own      1       1   no   \n",
       "2  1-7years            2    male          3   49      own      1       2   no   \n",
       "3  1-7years            2    male          4   45  forfree      1       2   no   \n",
       "4  1-7years            3    male          4   53  forfree      2       2   no   \n",
       "\n",
       "   foreign  \n",
       "0  foreign  \n",
       "1  foreign  \n",
       "2  foreign  \n",
       "3  foreign  \n",
       "4  foreign  "
      ]
     },
     "execution_count": 6,
     "metadata": {},
     "output_type": "execute_result"
    }
   ],
   "source": [
    "credit_df.head()"
   ]
  },
  {
   "cell_type": "code",
   "execution_count": 7,
   "id": "fdda9f6f",
   "metadata": {},
   "outputs": [
    {
     "data": {
      "text/plain": [
       "Index(['Default', 'checkingstatus1', 'duration', 'history', 'purpose',\n",
       "       'amount', 'savings', 'employ', 'installment', 'sex', 'residence', 'age',\n",
       "       'housing', 'cards', 'liable', 'tele', 'foreign'],\n",
       "      dtype='object')"
      ]
     },
     "execution_count": 7,
     "metadata": {},
     "output_type": "execute_result"
    }
   ],
   "source": [
    "credit_df.columns"
   ]
  },
  {
   "cell_type": "code",
   "execution_count": 8,
   "id": "b01cea04",
   "metadata": {},
   "outputs": [
    {
     "data": {
      "text/html": [
       "<div>\n",
       "<style scoped>\n",
       "    .dataframe tbody tr th:only-of-type {\n",
       "        vertical-align: middle;\n",
       "    }\n",
       "\n",
       "    .dataframe tbody tr th {\n",
       "        vertical-align: top;\n",
       "    }\n",
       "\n",
       "    .dataframe thead th {\n",
       "        text-align: right;\n",
       "    }\n",
       "</style>\n",
       "<table border=\"1\" class=\"dataframe\">\n",
       "  <thead>\n",
       "    <tr style=\"text-align: right;\">\n",
       "      <th></th>\n",
       "      <th>Default</th>\n",
       "      <th>checkingstatus1</th>\n",
       "      <th>duration</th>\n",
       "      <th>history</th>\n",
       "      <th>purpose</th>\n",
       "      <th>amount</th>\n",
       "      <th>savings</th>\n",
       "      <th>employ</th>\n",
       "      <th>installment</th>\n",
       "      <th>sex</th>\n",
       "      <th>residence</th>\n",
       "      <th>age</th>\n",
       "      <th>housing</th>\n",
       "      <th>cards</th>\n",
       "      <th>liable</th>\n",
       "      <th>tele</th>\n",
       "      <th>foreign</th>\n",
       "    </tr>\n",
       "  </thead>\n",
       "  <tbody>\n",
       "    <tr>\n",
       "      <th>0</th>\n",
       "      <td>0</td>\n",
       "      <td>&lt;DM0</td>\n",
       "      <td>6</td>\n",
       "      <td>terrible</td>\n",
       "      <td>goods/repair</td>\n",
       "      <td>1169</td>\n",
       "      <td>DM0-100</td>\n",
       "      <td>7+years</td>\n",
       "      <td>4</td>\n",
       "      <td>male</td>\n",
       "      <td>4</td>\n",
       "      <td>67</td>\n",
       "      <td>own</td>\n",
       "      <td>2</td>\n",
       "      <td>1</td>\n",
       "      <td>yes</td>\n",
       "      <td>foreign</td>\n",
       "    </tr>\n",
       "    <tr>\n",
       "      <th>1</th>\n",
       "      <td>1</td>\n",
       "      <td>DM0-200</td>\n",
       "      <td>48</td>\n",
       "      <td>poor</td>\n",
       "      <td>goods/repair</td>\n",
       "      <td>5951</td>\n",
       "      <td>DM0-100</td>\n",
       "      <td>1-7years</td>\n",
       "      <td>2</td>\n",
       "      <td>female</td>\n",
       "      <td>2</td>\n",
       "      <td>22</td>\n",
       "      <td>own</td>\n",
       "      <td>1</td>\n",
       "      <td>1</td>\n",
       "      <td>no</td>\n",
       "      <td>foreign</td>\n",
       "    </tr>\n",
       "    <tr>\n",
       "      <th>2</th>\n",
       "      <td>0</td>\n",
       "      <td>NoAccount</td>\n",
       "      <td>12</td>\n",
       "      <td>terrible</td>\n",
       "      <td>edu</td>\n",
       "      <td>2096</td>\n",
       "      <td>DM0-100</td>\n",
       "      <td>1-7years</td>\n",
       "      <td>2</td>\n",
       "      <td>male</td>\n",
       "      <td>3</td>\n",
       "      <td>49</td>\n",
       "      <td>own</td>\n",
       "      <td>1</td>\n",
       "      <td>2</td>\n",
       "      <td>no</td>\n",
       "      <td>foreign</td>\n",
       "    </tr>\n",
       "    <tr>\n",
       "      <th>3</th>\n",
       "      <td>0</td>\n",
       "      <td>&lt;DM0</td>\n",
       "      <td>42</td>\n",
       "      <td>poor</td>\n",
       "      <td>goods/repair</td>\n",
       "      <td>7882</td>\n",
       "      <td>DM0-100</td>\n",
       "      <td>1-7years</td>\n",
       "      <td>2</td>\n",
       "      <td>male</td>\n",
       "      <td>4</td>\n",
       "      <td>45</td>\n",
       "      <td>forfree</td>\n",
       "      <td>1</td>\n",
       "      <td>2</td>\n",
       "      <td>no</td>\n",
       "      <td>foreign</td>\n",
       "    </tr>\n",
       "    <tr>\n",
       "      <th>4</th>\n",
       "      <td>1</td>\n",
       "      <td>&lt;DM0</td>\n",
       "      <td>24</td>\n",
       "      <td>poor</td>\n",
       "      <td>newcar</td>\n",
       "      <td>4870</td>\n",
       "      <td>DM0-100</td>\n",
       "      <td>1-7years</td>\n",
       "      <td>3</td>\n",
       "      <td>male</td>\n",
       "      <td>4</td>\n",
       "      <td>53</td>\n",
       "      <td>forfree</td>\n",
       "      <td>2</td>\n",
       "      <td>2</td>\n",
       "      <td>no</td>\n",
       "      <td>foreign</td>\n",
       "    </tr>\n",
       "  </tbody>\n",
       "</table>\n",
       "</div>"
      ],
      "text/plain": [
       "   Default checkingstatus1  duration   history       purpose  amount  savings  \\\n",
       "0        0            <DM0         6  terrible  goods/repair    1169  DM0-100   \n",
       "1        1         DM0-200        48      poor  goods/repair    5951  DM0-100   \n",
       "2        0       NoAccount        12  terrible           edu    2096  DM0-100   \n",
       "3        0            <DM0        42      poor  goods/repair    7882  DM0-100   \n",
       "4        1            <DM0        24      poor        newcar    4870  DM0-100   \n",
       "\n",
       "     employ  installment     sex  residence  age  housing  cards  liable tele  \\\n",
       "0   7+years            4    male          4   67      own      2       1  yes   \n",
       "1  1-7years            2  female          2   22      own      1       1   no   \n",
       "2  1-7years            2    male          3   49      own      1       2   no   \n",
       "3  1-7years            2    male          4   45  forfree      1       2   no   \n",
       "4  1-7years            3    male          4   53  forfree      2       2   no   \n",
       "\n",
       "   foreign  \n",
       "0  foreign  \n",
       "1  foreign  \n",
       "2  foreign  \n",
       "3  foreign  \n",
       "4  foreign  "
      ]
     },
     "execution_count": 8,
     "metadata": {},
     "output_type": "execute_result"
    }
   ],
   "source": [
    "credit_df.head()"
   ]
  },
  {
   "cell_type": "markdown",
   "id": "0a75cc7b",
   "metadata": {},
   "source": [
    "# To understand the data let us deep dive into it and visualize data using plots and figures."
   ]
  },
  {
   "cell_type": "code",
   "execution_count": 9,
   "id": "6aa2fc7a",
   "metadata": {},
   "outputs": [
    {
     "data": {
      "text/plain": [
       "Text(0.5, 1.0, 'Good Credit vs Bad Credit')"
      ]
     },
     "execution_count": 9,
     "metadata": {},
     "output_type": "execute_result"
    },
    {
     "data": {
      "image/png": "[encoded data removed]",
      "text/plain": [
       "<Figure size 640x480 with 1 Axes>"
      ]
     },
     "metadata": {},
     "output_type": "display_data"
    }
   ],
   "source": [
    "sns.countplot(x=credit_df['Default'],data=credit_df)\n",
    "plt.xlabel('Type of Credit')\n",
    "plt.ylabel('Count of the type')\n",
    "plt.title('Good Credit vs Bad Credit')"
   ]
  },
  {
   "cell_type": "markdown",
   "id": "e6338868",
   "metadata": {},
   "source": [
    "### Inference \n",
    "- Good credit is more than bad credit\n",
    "- It is a good sign for the bank"
   ]
  },
  {
   "cell_type": "code",
   "execution_count": 10,
   "id": "04565452",
   "metadata": {},
   "outputs": [
    {
     "data": {
      "text/plain": [
       "<Axes: xlabel='checkingstatus1', ylabel='count'>"
      ]
     },
     "execution_count": 10,
     "metadata": {},
     "output_type": "execute_result"
    },
    {
     "data": {
      "image/png": "[encoded data removed]",
      "text/plain": [
       "<Figure size 640x480 with 1 Axes>"
      ]
     },
     "metadata": {},
     "output_type": "display_data"
    }
   ],
   "source": [
    "sns.countplot(x=credit_df['checkingstatus1'],data=credit_df)"
   ]
  },
  {
   "cell_type": "code",
   "execution_count": 11,
   "id": "1064ca23",
   "metadata": {},
   "outputs": [
    {
     "data": {
      "text/plain": [
       "Text(0.5, 1.0, 'Duration vs Count')"
      ]
     },
     "execution_count": 11,
     "metadata": {},
     "output_type": "execute_result"
    },
    {
     "data": {
      "image/png": "[encoded data removed]",
      "text/plain": [
       "<Figure size 640x480 with 1 Axes>"
      ]
     },
     "metadata": {},
     "output_type": "display_data"
    }
   ],
   "source": [
    "import warnings\n",
    "warnings.filterwarnings('ignore')\n",
    "sns.histplot(credit_df['duration'])\n",
    "plt.xlabel('Duration in months')\n",
    "plt.title('Duration vs Count')"
   ]
  },
  {
   "cell_type": "markdown",
   "id": "48f3b354",
   "metadata": {},
   "source": [
    "## Inference\n",
    "- 11 to 12 months of duration and\n",
    "- 22 to 24 months of duration is preferred by people\n",
    "- It might be because people are preferring round figure to take loan\n"
   ]
  },
  {
   "cell_type": "code",
   "execution_count": 12,
   "id": "15435163",
   "metadata": {},
   "outputs": [
    {
     "data": {
      "text/plain": [
       "<Axes: xlabel='history', ylabel='count'>"
      ]
     },
     "execution_count": 12,
     "metadata": {},
     "output_type": "execute_result"
    },
    {
     "data": {
      "image/png": "[encoded data removed]",
      "text/plain": [
       "<Figure size 640x480 with 1 Axes>"
      ]
     },
     "metadata": {},
     "output_type": "display_data"
    }
   ],
   "source": [
    "sns.countplot(x=credit_df['history'],data = credit_df)"
   ]
  },
  {
   "cell_type": "markdown",
   "id": "fcb32355",
   "metadata": {},
   "source": [
    "## Inference\n",
    "- Most of the people have poor credit history\n",
    "- It might be because of inadequate knowledge about credit card usage\n",
    "- Might be the score got effected in the covid waves\n",
    "- Good credit people are quite less when compared to other categories, it is shocking to see this"
   ]
  },
  {
   "cell_type": "code",
   "execution_count": 13,
   "id": "fccd09cf",
   "metadata": {},
   "outputs": [
    {
     "data": {
      "text/plain": [
       "<Axes: xlabel='purpose', ylabel='count'>"
      ]
     },
     "execution_count": 13,
     "metadata": {},
     "output_type": "execute_result"
    },
    {
     "data": {
      "image/png": "[encoded data removed]",
      "text/plain": [
       "<Figure size 640x480 with 1 Axes>"
      ]
     },
     "metadata": {},
     "output_type": "display_data"
    }
   ],
   "source": [
    "sns.countplot(x=credit_df['purpose'],data=credit_df)"
   ]
  },
  {
   "cell_type": "markdown",
   "id": "ae3c51f8",
   "metadata": {},
   "source": [
    "## Inference\n",
    "- Goods/repair has more frequency when compared to others.\n",
    "- People are preferring to buy new car using the loan amount.\n",
    "- Very few people are taking loan for education.\n",
    "- People are taking loan even to buy an used car which is quite interesting\n",
    "- And people are taking loans to start their own business or to continue their old business"
   ]
  },
  {
   "cell_type": "code",
   "execution_count": 14,
   "id": "a369cb03",
   "metadata": {},
   "outputs": [
    {
     "data": {
      "text/plain": [
       "<Axes: >"
      ]
     },
     "execution_count": 14,
     "metadata": {},
     "output_type": "execute_result"
    },
    {
     "data": {
      "image/png": "[encoded data removed]",
      "text/plain": [
       "<Figure size 640x480 with 1 Axes>"
      ]
     },
     "metadata": {},
     "output_type": "display_data"
    }
   ],
   "source": [
    "sns.boxplot(credit_df['amount'])"
   ]
  },
  {
   "cell_type": "markdown",
   "id": "2f6e5ac7",
   "metadata": {},
   "source": [
    "## Inference\n",
    "- Although the amount is has mean around 2500\n",
    "- Many outliers are their in the data\n",
    "- Most of the people took loan between 2500 and 4000"
   ]
  },
  {
   "cell_type": "code",
   "execution_count": 15,
   "id": "1085cbcf",
   "metadata": {},
   "outputs": [
    {
     "data": {
      "text/plain": [
       "<Axes: xlabel='savings', ylabel='count'>"
      ]
     },
     "execution_count": 15,
     "metadata": {},
     "output_type": "execute_result"
    },
    {
     "data": {
      "image/png": "[encoded data removed]",
      "text/plain": [
       "<Figure size 640x480 with 1 Axes>"
      ]
     },
     "metadata": {},
     "output_type": "display_data"
    }
   ],
   "source": [
    "sns.countplot(x=credit_df['savings'],data=credit_df)"
   ]
  },
  {
   "cell_type": "code",
   "execution_count": 16,
   "id": "c96610b6",
   "metadata": {},
   "outputs": [
    {
     "data": {
      "text/plain": [
       "<Axes: xlabel='employ', ylabel='count'>"
      ]
     },
     "execution_count": 16,
     "metadata": {},
     "output_type": "execute_result"
    },
    {
     "data": {
      "image/png": "[encoded data removed]",
      "text/plain": [
       "<Figure size 640x480 with 1 Axes>"
      ]
     },
     "metadata": {},
     "output_type": "display_data"
    }
   ],
   "source": [
    "sns.countplot(x=credit_df['employ'],data=credit_df)"
   ]
  },
  {
   "cell_type": "markdown",
   "id": "4fe46d92",
   "metadata": {},
   "source": [
    "## Inference\n",
    "- 1-7 years of experience people are taking loans more may be to buy vehicle\n",
    "- 7+ years of experienced people are taking loans may be to buy their own home\n",
    "- Unemployed people are not risking by taking loan\n",
    "- 0-1 years of experienced are taking loan may be to buy iPhone or any fancy stuff with their initial earnings."
   ]
  },
  {
   "cell_type": "code",
   "execution_count": 17,
   "id": "721d1039",
   "metadata": {},
   "outputs": [
    {
     "data": {
      "text/plain": [
       "<Axes: xlabel='installment', ylabel='count'>"
      ]
     },
     "execution_count": 17,
     "metadata": {},
     "output_type": "execute_result"
    },
    {
     "data": {
      "image/png": "[encoded data removed]",
      "text/plain": [
       "<Figure size 640x480 with 1 Axes>"
      ]
     },
     "metadata": {},
     "output_type": "display_data"
    }
   ],
   "source": [
    "sns.countplot(x=credit_df['installment'],data=credit_df)"
   ]
  },
  {
   "cell_type": "markdown",
   "id": "e7148c5a",
   "metadata": {},
   "source": [
    "## inference\n",
    "- Many people are taking 4 installments may be because more the installments less the pressure\n"
   ]
  },
  {
   "cell_type": "code",
   "execution_count": 18,
   "id": "041018c1",
   "metadata": {},
   "outputs": [
    {
     "data": {
      "text/plain": [
       "<Axes: xlabel='sex', ylabel='count'>"
      ]
     },
     "execution_count": 18,
     "metadata": {},
     "output_type": "execute_result"
    },
    {
     "data": {
      "image/png": "[encoded data removed]",
      "text/plain": [
       "<Figure size 640x480 with 1 Axes>"
      ]
     },
     "metadata": {},
     "output_type": "display_data"
    }
   ],
   "source": [
    "sns.countplot(x=credit_df['sex'],data=credit_df)"
   ]
  },
  {
   "cell_type": "markdown",
   "id": "027fd421",
   "metadata": {},
   "source": [
    "## Inference\n",
    "- Males asusual are taking loans more than women\n",
    "- Generally males take the responsibility to run the home so it is common that they are taking more loans\n",
    "- Females on the other hand may also take loan to help their father or Husband in buying home/car.\n",
    "- I think bank is giving loans based on employment. As males are often more employed. they might be taking more loans"
   ]
  },
  {
   "cell_type": "code",
   "execution_count": 19,
   "id": "aa29ee8e",
   "metadata": {},
   "outputs": [
    {
     "data": {
      "text/plain": [
       "<Axes: xlabel='residence', ylabel='count'>"
      ]
     },
     "execution_count": 19,
     "metadata": {},
     "output_type": "execute_result"
    },
    {
     "data": {
      "image/png": "[encoded data removed]",
      "text/plain": [
       "<Figure size 640x480 with 1 Axes>"
      ]
     },
     "metadata": {},
     "output_type": "display_data"
    }
   ],
   "source": [
    "sns.countplot(x=credit_df['residence'],data=credit_df)"
   ]
  },
  {
   "cell_type": "code",
   "execution_count": 20,
   "id": "6d63eb2c",
   "metadata": {},
   "outputs": [
    {
     "data": {
      "text/plain": [
       "<Axes: xlabel='age', ylabel='Density'>"
      ]
     },
     "execution_count": 20,
     "metadata": {},
     "output_type": "execute_result"
    },
    {
     "data": {
      "image/png": "[encoded data removed]",
      "text/plain": [
       "<Figure size 640x480 with 1 Axes>"
      ]
     },
     "metadata": {},
     "output_type": "display_data"
    }
   ],
   "source": [
    "sns.distplot(credit_df['age'])"
   ]
  },
  {
   "cell_type": "code",
   "execution_count": 21,
   "id": "0e0ce518",
   "metadata": {},
   "outputs": [
    {
     "data": {
      "text/plain": [
       "<Axes: xlabel='housing', ylabel='count'>"
      ]
     },
     "execution_count": 21,
     "metadata": {},
     "output_type": "execute_result"
    },
    {
     "data": {
      "image/png": "[encoded data removed]",
      "text/plain": [
       "<Figure size 640x480 with 1 Axes>"
      ]
     },
     "metadata": {},
     "output_type": "display_data"
    }
   ],
   "source": [
    "sns.countplot(x=credit_df['housing'],data=credit_df)"
   ]
  },
  {
   "cell_type": "markdown",
   "id": "7df921c5",
   "metadata": {},
   "source": [
    "## Inference\n",
    "- It is very easy to get a loan when you have your own house\n",
    "- Banks generally give loans by taking the house documents\n",
    "- Giving loans to people who live in rented houses is very risky so they are less loans offered to them compared to own housed people."
   ]
  },
  {
   "cell_type": "code",
   "execution_count": 22,
   "id": "d5cf8558",
   "metadata": {},
   "outputs": [
    {
     "data": {
      "text/plain": [
       "<Axes: xlabel='cards', ylabel='count'>"
      ]
     },
     "execution_count": 22,
     "metadata": {},
     "output_type": "execute_result"
    },
    {
     "data": {
      "image/png": "[encoded data removed]",
      "text/plain": [
       "<Figure size 640x480 with 1 Axes>"
      ]
     },
     "metadata": {},
     "output_type": "display_data"
    }
   ],
   "source": [
    "sns.countplot(x=credit_df['cards'],data=credit_df)"
   ]
  },
  {
   "cell_type": "markdown",
   "id": "2452b12f",
   "metadata": {},
   "source": [
    "## Inference\n",
    "- Most of the people prefer 1 or 2 cards\n",
    "- Very few people maintain more than 2 cards\n",
    "- Quite often those people might be business persons"
   ]
  },
  {
   "cell_type": "code",
   "execution_count": 23,
   "id": "084ef96b",
   "metadata": {},
   "outputs": [
    {
     "data": {
      "text/plain": [
       "<Axes: xlabel='liable', ylabel='count'>"
      ]
     },
     "execution_count": 23,
     "metadata": {},
     "output_type": "execute_result"
    },
    {
     "data": {
      "image/png": "[encoded data removed]",
      "text/plain": [
       "<Figure size 640x480 with 1 Axes>"
      ]
     },
     "metadata": {},
     "output_type": "display_data"
    }
   ],
   "source": [
    "sns.countplot(x=credit_df['liable'],data=credit_df)"
   ]
  },
  {
   "cell_type": "code",
   "execution_count": 24,
   "id": "e945d520",
   "metadata": {},
   "outputs": [
    {
     "data": {
      "text/plain": [
       "<Axes: xlabel='tele', ylabel='count'>"
      ]
     },
     "execution_count": 24,
     "metadata": {},
     "output_type": "execute_result"
    },
    {
     "data": {
      "image/png": "[encoded data removed]",
      "text/plain": [
       "<Figure size 640x480 with 1 Axes>"
      ]
     },
     "metadata": {},
     "output_type": "display_data"
    }
   ],
   "source": [
    "sns.countplot(x=credit_df['tele'],data=credit_df)"
   ]
  },
  {
   "cell_type": "code",
   "execution_count": 25,
   "id": "3497d582",
   "metadata": {},
   "outputs": [
    {
     "data": {
      "text/plain": [
       "<Axes: xlabel='foreign', ylabel='count'>"
      ]
     },
     "execution_count": 25,
     "metadata": {},
     "output_type": "execute_result"
    },
    {
     "data": {
      "image/png": "[encoded data removed]",
      "text/plain": [
       "<Figure size 640x480 with 1 Axes>"
      ]
     },
     "metadata": {},
     "output_type": "display_data"
    }
   ],
   "source": [
    "sns.countplot(x=credit_df['foreign'],data=credit_df)"
   ]
  },
  {
   "cell_type": "code",
   "execution_count": 26,
   "id": "0dcb259c",
   "metadata": {},
   "outputs": [
    {
     "data": {
      "text/plain": [
       "0    700\n",
       "1    300\n",
       "Name: Default, dtype: int64"
      ]
     },
     "execution_count": 26,
     "metadata": {},
     "output_type": "execute_result"
    }
   ],
   "source": [
    "credit_df['Default'].value_counts()"
   ]
  },
  {
   "cell_type": "code",
   "execution_count": 27,
   "id": "829407fc",
   "metadata": {},
   "outputs": [
    {
     "data": {
      "text/plain": [
       "['checkingstatus1',\n",
       " 'duration',\n",
       " 'history',\n",
       " 'purpose',\n",
       " 'amount',\n",
       " 'savings',\n",
       " 'employ',\n",
       " 'installment',\n",
       " 'sex',\n",
       " 'residence',\n",
       " 'age',\n",
       " 'housing',\n",
       " 'cards',\n",
       " 'liable',\n",
       " 'tele',\n",
       " 'foreign']"
      ]
     },
     "execution_count": 27,
     "metadata": {},
     "output_type": "execute_result"
    }
   ],
   "source": [
    "X_features =  list(credit_df.columns)\n",
    "X_features.remove('Default')\n",
    "X_features"
   ]
  },
  {
   "cell_type": "code",
   "execution_count": 29,
   "id": "26e0c36b",
   "metadata": {},
   "outputs": [],
   "source": [
    "# One Hot Encoding to change the categorical data into binary encoded\n",
    "encoded_credit_df = pd.get_dummies(credit_df[X_features],drop_first = True)"
   ]
  },
  {
   "cell_type": "code",
   "execution_count": 31,
   "id": "7c725c43",
   "metadata": {},
   "outputs": [
    {
     "data": {
      "text/plain": [
       "['duration',\n",
       " 'amount',\n",
       " 'installment',\n",
       " 'residence',\n",
       " 'age',\n",
       " 'cards',\n",
       " 'liable',\n",
       " 'checkingstatus1_DM0-200',\n",
       " 'checkingstatus1_DM200+',\n",
       " 'checkingstatus1_NoAccount',\n",
       " 'history_poor',\n",
       " 'history_terrible',\n",
       " 'purpose_edu',\n",
       " 'purpose_goods/repair',\n",
       " 'purpose_newcar',\n",
       " 'purpose_usedcar',\n",
       " 'savings_DM100-1000',\n",
       " 'savings_DM1000+',\n",
       " 'employ_1-7years',\n",
       " 'employ_7+years',\n",
       " 'employ_unemployed',\n",
       " 'sex_male',\n",
       " 'housing_own',\n",
       " 'housing_rent',\n",
       " 'tele_yes',\n",
       " 'foreign_german']"
      ]
     },
     "execution_count": 31,
     "metadata": {},
     "output_type": "execute_result"
    }
   ],
   "source": [
    "list(encoded_credit_df.columns)"
   ]
  },
  {
   "cell_type": "code",
   "execution_count": 32,
   "id": "31d55138",
   "metadata": {},
   "outputs": [
    {
     "data": {
      "text/html": [
       "<div>\n",
       "<style scoped>\n",
       "    .dataframe tbody tr th:only-of-type {\n",
       "        vertical-align: middle;\n",
       "    }\n",
       "\n",
       "    .dataframe tbody tr th {\n",
       "        vertical-align: top;\n",
       "    }\n",
       "\n",
       "    .dataframe thead th {\n",
       "        text-align: right;\n",
       "    }\n",
       "</style>\n",
       "<table border=\"1\" class=\"dataframe\">\n",
       "  <thead>\n",
       "    <tr style=\"text-align: right;\">\n",
       "      <th></th>\n",
       "      <th>employ_1-7years</th>\n",
       "      <th>employ_7+years</th>\n",
       "      <th>employ_unemployed</th>\n",
       "    </tr>\n",
       "  </thead>\n",
       "  <tbody>\n",
       "    <tr>\n",
       "      <th>0</th>\n",
       "      <td>0</td>\n",
       "      <td>1</td>\n",
       "      <td>0</td>\n",
       "    </tr>\n",
       "    <tr>\n",
       "      <th>1</th>\n",
       "      <td>1</td>\n",
       "      <td>0</td>\n",
       "      <td>0</td>\n",
       "    </tr>\n",
       "    <tr>\n",
       "      <th>2</th>\n",
       "      <td>1</td>\n",
       "      <td>0</td>\n",
       "      <td>0</td>\n",
       "    </tr>\n",
       "    <tr>\n",
       "      <th>3</th>\n",
       "      <td>1</td>\n",
       "      <td>0</td>\n",
       "      <td>0</td>\n",
       "    </tr>\n",
       "    <tr>\n",
       "      <th>4</th>\n",
       "      <td>1</td>\n",
       "      <td>0</td>\n",
       "      <td>0</td>\n",
       "    </tr>\n",
       "  </tbody>\n",
       "</table>\n",
       "</div>"
      ],
      "text/plain": [
       "   employ_1-7years  employ_7+years  employ_unemployed\n",
       "0                0               1                  0\n",
       "1                1               0                  0\n",
       "2                1               0                  0\n",
       "3                1               0                  0\n",
       "4                1               0                  0"
      ]
     },
     "execution_count": 32,
     "metadata": {},
     "output_type": "execute_result"
    }
   ],
   "source": [
    "encoded_credit_df[['employ_1-7years','employ_7+years','employ_unemployed']].head(5)"
   ]
  },
  {
   "cell_type": "code",
   "execution_count": 33,
   "id": "431590f3",
   "metadata": {},
   "outputs": [],
   "source": [
    "import statsmodels.api as sm"
   ]
  },
  {
   "cell_type": "code",
   "execution_count": 41,
   "id": "a70889ff",
   "metadata": {},
   "outputs": [],
   "source": [
    "Y = credit_df.Default\n",
    "X = sm.add_constant(encoded_credit_df)"
   ]
  },
  {
   "cell_type": "code",
   "execution_count": 42,
   "id": "e979d0f2",
   "metadata": {},
   "outputs": [],
   "source": [
    "from sklearn.model_selection import train_test_split"
   ]
  },
  {
   "cell_type": "code",
   "execution_count": 43,
   "id": "e47c82b2",
   "metadata": {},
   "outputs": [],
   "source": [
    "X_train,X_test,Y_train,Y_test = train_test_split(X,Y,test_size=0.3,random_state=42)"
   ]
  },
  {
   "cell_type": "code",
   "execution_count": 44,
   "id": "e12512f8",
   "metadata": {},
   "outputs": [
    {
     "name": "stdout",
     "output_type": "stream",
     "text": [
      "Optimization terminated successfully.\n",
      "         Current function value: 0.471566\n",
      "         Iterations 7\n"
     ]
    }
   ],
   "source": [
    "import statsmodels.api as sm\n",
    "logit = sm.Logit(Y_train,X_train)\n",
    "logit_model = logit.fit()"
   ]
  },
  {
   "cell_type": "code",
   "execution_count": 45,
   "id": "6984a019",
   "metadata": {},
   "outputs": [
    {
     "data": {
      "text/html": [
       "<table class=\"simpletable\">\n",
       "<tr>\n",
       "        <td>Model:</td>              <td>Logit</td>      <td>Pseudo R-squared:</td>    <td>0.226</td>  \n",
       "</tr>\n",
       "<tr>\n",
       "  <td>Dependent Variable:</td>      <td>Default</td>           <td>AIC:</td>         <td>714.1928</td> \n",
       "</tr>\n",
       "<tr>\n",
       "         <td>Date:</td>        <td>2023-07-08 08:56</td>       <td>BIC:</td>         <td>837.0720</td> \n",
       "</tr>\n",
       "<tr>\n",
       "   <td>No. Observations:</td>         <td>700</td>        <td>Log-Likelihood:</td>    <td>-330.10</td> \n",
       "</tr>\n",
       "<tr>\n",
       "       <td>Df Model:</td>             <td>26</td>            <td>LL-Null:</td>        <td>-426.75</td> \n",
       "</tr>\n",
       "<tr>\n",
       "     <td>Df Residuals:</td>           <td>673</td>         <td>LLR p-value:</td>    <td>1.6648e-27</td>\n",
       "</tr>\n",
       "<tr>\n",
       "      <td>Converged:</td>           <td>1.0000</td>           <td>Scale:</td>         <td>1.0000</td>  \n",
       "</tr>\n",
       "<tr>\n",
       "    <td>No. Iterations:</td>        <td>7.0000</td>              <td></td>               <td></td>     \n",
       "</tr>\n",
       "</table>\n",
       "<table class=\"simpletable\">\n",
       "<tr>\n",
       "              <td></td>               <th>Coef.</th>  <th>Std.Err.</th>    <th>z</th>     <th>P>|z|</th> <th>[0.025</th>  <th>0.975]</th> \n",
       "</tr>\n",
       "<tr>\n",
       "  <th>const</th>                     <td>0.9900</td>   <td>0.9374</td>  <td>1.0560</td>  <td>0.2909</td> <td>-0.8474</td> <td>2.8273</td> \n",
       "</tr>\n",
       "<tr>\n",
       "  <th>duration</th>                  <td>0.0171</td>   <td>0.0106</td>  <td>1.6209</td>  <td>0.1050</td> <td>-0.0036</td> <td>0.0378</td> \n",
       "</tr>\n",
       "<tr>\n",
       "  <th>amount</th>                    <td>0.0001</td>   <td>0.0000</td>  <td>2.5894</td>  <td>0.0096</td> <td>0.0000</td>  <td>0.0002</td> \n",
       "</tr>\n",
       "<tr>\n",
       "  <th>installment</th>               <td>0.3040</td>   <td>0.0993</td>  <td>3.0611</td>  <td>0.0022</td> <td>0.1094</td>  <td>0.4986</td> \n",
       "</tr>\n",
       "<tr>\n",
       "  <th>residence</th>                 <td>0.0227</td>   <td>0.0989</td>  <td>0.2291</td>  <td>0.8188</td> <td>-0.1712</td> <td>0.2165</td> \n",
       "</tr>\n",
       "<tr>\n",
       "  <th>age</th>                       <td>-0.0296</td>  <td>0.0110</td>  <td>-2.6860</td> <td>0.0072</td> <td>-0.0511</td> <td>-0.0080</td>\n",
       "</tr>\n",
       "<tr>\n",
       "  <th>cards</th>                     <td>0.2187</td>   <td>0.1993</td>  <td>1.0972</td>  <td>0.2725</td> <td>-0.1719</td> <td>0.6093</td> \n",
       "</tr>\n",
       "<tr>\n",
       "  <th>liable</th>                    <td>0.0772</td>   <td>0.2980</td>  <td>0.2590</td>  <td>0.7956</td> <td>-0.5069</td> <td>0.6613</td> \n",
       "</tr>\n",
       "<tr>\n",
       "  <th>checkingstatus1_DM0-200</th>   <td>-0.4287</td>  <td>0.2451</td>  <td>-1.7492</td> <td>0.0802</td> <td>-0.9091</td> <td>0.0516</td> \n",
       "</tr>\n",
       "<tr>\n",
       "  <th>checkingstatus1_DM200+</th>    <td>-0.9183</td>  <td>0.4377</td>  <td>-2.0980</td> <td>0.0359</td> <td>-1.7762</td> <td>-0.0604</td>\n",
       "</tr>\n",
       "<tr>\n",
       "  <th>checkingstatus1_NoAccount</th> <td>-1.5920</td>  <td>0.2628</td>  <td>-6.0575</td> <td>0.0000</td> <td>-2.1072</td> <td>-1.0769</td>\n",
       "</tr>\n",
       "<tr>\n",
       "  <th>history_poor</th>              <td>-0.7300</td>  <td>0.3184</td>  <td>-2.2928</td> <td>0.0219</td> <td>-1.3539</td> <td>-0.1060</td>\n",
       "</tr>\n",
       "<tr>\n",
       "  <th>history_terrible</th>          <td>-1.5188</td>  <td>0.3745</td>  <td>-4.0550</td> <td>0.0001</td> <td>-2.2529</td> <td>-0.7847</td>\n",
       "</tr>\n",
       "<tr>\n",
       "  <th>purpose_edu</th>               <td>0.4010</td>   <td>0.4987</td>  <td>0.8040</td>  <td>0.4214</td> <td>-0.5765</td> <td>1.3784</td> \n",
       "</tr>\n",
       "<tr>\n",
       "  <th>purpose_goods/repair</th>      <td>-0.4083</td>  <td>0.3319</td>  <td>-1.2304</td> <td>0.2185</td> <td>-1.0588</td> <td>0.2421</td> \n",
       "</tr>\n",
       "<tr>\n",
       "  <th>purpose_newcar</th>            <td>0.5136</td>   <td>0.3570</td>  <td>1.4388</td>  <td>0.1502</td> <td>-0.1861</td> <td>1.2133</td> \n",
       "</tr>\n",
       "<tr>\n",
       "  <th>purpose_usedcar</th>           <td>-1.0700</td>  <td>0.4699</td>  <td>-2.2773</td> <td>0.0228</td> <td>-1.9909</td> <td>-0.1491</td>\n",
       "</tr>\n",
       "<tr>\n",
       "  <th>savings_DM100-1000</th>        <td>-0.2104</td>  <td>0.2747</td>  <td>-0.7657</td> <td>0.4439</td> <td>-0.7488</td> <td>0.3281</td> \n",
       "</tr>\n",
       "<tr>\n",
       "  <th>savings_DM1000+</th>           <td>-0.8014</td>  <td>0.5857</td>  <td>-1.3683</td> <td>0.1712</td> <td>-1.9494</td> <td>0.3466</td> \n",
       "</tr>\n",
       "<tr>\n",
       "  <th>employ_1-7years</th>           <td>-0.3755</td>  <td>0.2631</td>  <td>-1.4275</td> <td>0.1534</td> <td>-0.8911</td> <td>0.1401</td> \n",
       "</tr>\n",
       "<tr>\n",
       "  <th>employ_7+years</th>            <td>-0.4176</td>  <td>0.3411</td>  <td>-1.2244</td> <td>0.2208</td> <td>-1.0861</td> <td>0.2509</td> \n",
       "</tr>\n",
       "<tr>\n",
       "  <th>employ_unemployed</th>         <td>-0.1759</td>  <td>0.4356</td>  <td>-0.4037</td> <td>0.6865</td> <td>-1.0297</td> <td>0.6780</td> \n",
       "</tr>\n",
       "<tr>\n",
       "  <th>sex_male</th>                  <td>-0.3460</td>  <td>0.2221</td>  <td>-1.5576</td> <td>0.1193</td> <td>-0.7814</td> <td>0.0894</td> \n",
       "</tr>\n",
       "<tr>\n",
       "  <th>housing_own</th>               <td>-0.7408</td>  <td>0.3470</td>  <td>-2.1346</td> <td>0.0328</td> <td>-1.4209</td> <td>-0.0606</td>\n",
       "</tr>\n",
       "<tr>\n",
       "  <th>housing_rent</th>              <td>-0.4615</td>  <td>0.4064</td>  <td>-1.1357</td> <td>0.2561</td> <td>-1.2580</td> <td>0.3350</td> \n",
       "</tr>\n",
       "<tr>\n",
       "  <th>tele_yes</th>                  <td>-0.2289</td>  <td>0.2172</td>  <td>-1.0536</td> <td>0.2920</td> <td>-0.6546</td> <td>0.1969</td> \n",
       "</tr>\n",
       "<tr>\n",
       "  <th>foreign_german</th>            <td>-1.4219</td>  <td>0.6899</td>  <td>-2.0612</td> <td>0.0393</td> <td>-2.7740</td> <td>-0.0698</td>\n",
       "</tr>\n",
       "</table>"
      ],
      "text/plain": [
       "<class 'statsmodels.iolib.summary2.Summary'>\n",
       "\"\"\"\n",
       "                             Results: Logit\n",
       "=========================================================================\n",
       "Model:                  Logit              Pseudo R-squared:   0.226     \n",
       "Dependent Variable:     Default            AIC:                714.1928  \n",
       "Date:                   2023-07-08 08:56   BIC:                837.0720  \n",
       "No. Observations:       700                Log-Likelihood:     -330.10   \n",
       "Df Model:               26                 LL-Null:            -426.75   \n",
       "Df Residuals:           673                LLR p-value:        1.6648e-27\n",
       "Converged:              1.0000             Scale:              1.0000    \n",
       "No. Iterations:         7.0000                                           \n",
       "-------------------------------------------------------------------------\n",
       "                           Coef.  Std.Err.    z    P>|z|   [0.025  0.975]\n",
       "-------------------------------------------------------------------------\n",
       "const                      0.9900   0.9374  1.0560 0.2909 -0.8474  2.8273\n",
       "duration                   0.0171   0.0106  1.6209 0.1050 -0.0036  0.0378\n",
       "amount                     0.0001   0.0000  2.5894 0.0096  0.0000  0.0002\n",
       "installment                0.3040   0.0993  3.0611 0.0022  0.1094  0.4986\n",
       "residence                  0.0227   0.0989  0.2291 0.8188 -0.1712  0.2165\n",
       "age                       -0.0296   0.0110 -2.6860 0.0072 -0.0511 -0.0080\n",
       "cards                      0.2187   0.1993  1.0972 0.2725 -0.1719  0.6093\n",
       "liable                     0.0772   0.2980  0.2590 0.7956 -0.5069  0.6613\n",
       "checkingstatus1_DM0-200   -0.4287   0.2451 -1.7492 0.0802 -0.9091  0.0516\n",
       "checkingstatus1_DM200+    -0.9183   0.4377 -2.0980 0.0359 -1.7762 -0.0604\n",
       "checkingstatus1_NoAccount -1.5920   0.2628 -6.0575 0.0000 -2.1072 -1.0769\n",
       "history_poor              -0.7300   0.3184 -2.2928 0.0219 -1.3539 -0.1060\n",
       "history_terrible          -1.5188   0.3745 -4.0550 0.0001 -2.2529 -0.7847\n",
       "purpose_edu                0.4010   0.4987  0.8040 0.4214 -0.5765  1.3784\n",
       "purpose_goods/repair      -0.4083   0.3319 -1.2304 0.2185 -1.0588  0.2421\n",
       "purpose_newcar             0.5136   0.3570  1.4388 0.1502 -0.1861  1.2133\n",
       "purpose_usedcar           -1.0700   0.4699 -2.2773 0.0228 -1.9909 -0.1491\n",
       "savings_DM100-1000        -0.2104   0.2747 -0.7657 0.4439 -0.7488  0.3281\n",
       "savings_DM1000+           -0.8014   0.5857 -1.3683 0.1712 -1.9494  0.3466\n",
       "employ_1-7years           -0.3755   0.2631 -1.4275 0.1534 -0.8911  0.1401\n",
       "employ_7+years            -0.4176   0.3411 -1.2244 0.2208 -1.0861  0.2509\n",
       "employ_unemployed         -0.1759   0.4356 -0.4037 0.6865 -1.0297  0.6780\n",
       "sex_male                  -0.3460   0.2221 -1.5576 0.1193 -0.7814  0.0894\n",
       "housing_own               -0.7408   0.3470 -2.1346 0.0328 -1.4209 -0.0606\n",
       "housing_rent              -0.4615   0.4064 -1.1357 0.2561 -1.2580  0.3350\n",
       "tele_yes                  -0.2289   0.2172 -1.0536 0.2920 -0.6546  0.1969\n",
       "foreign_german            -1.4219   0.6899 -2.0612 0.0393 -2.7740 -0.0698\n",
       "=========================================================================\n",
       "\n",
       "\"\"\""
      ]
     },
     "execution_count": 45,
     "metadata": {},
     "output_type": "execute_result"
    }
   ],
   "source": [
    "logit_model.summary2()"
   ]
  },
  {
   "cell_type": "code",
   "execution_count": 56,
   "id": "ff1e38f9",
   "metadata": {},
   "outputs": [],
   "source": [
    "def get_imp_variables(lm):\n",
    "    var_p_vals_df = pd.DataFrame(lm.pvalues)\n",
    "    var_p_vals_df['vars'] = var_p_vals_df.index\n",
    "    var_p_vals_df.columns = ['pvals','vars']\n",
    "    return list(var_p_vals_df[var_p_vals_df.pvals<=0.5]['vars'])"
   ]
  },
  {
   "cell_type": "code",
   "execution_count": 57,
   "id": "47ec5197",
   "metadata": {},
   "outputs": [
    {
     "data": {
      "text/plain": [
       "['const',\n",
       " 'duration',\n",
       " 'amount',\n",
       " 'installment',\n",
       " 'age',\n",
       " 'cards',\n",
       " 'checkingstatus1_DM0-200',\n",
       " 'checkingstatus1_DM200+',\n",
       " 'checkingstatus1_NoAccount',\n",
       " 'history_poor',\n",
       " 'history_terrible',\n",
       " 'purpose_edu',\n",
       " 'purpose_goods/repair',\n",
       " 'purpose_newcar',\n",
       " 'purpose_usedcar',\n",
       " 'savings_DM100-1000',\n",
       " 'savings_DM1000+',\n",
       " 'employ_1-7years',\n",
       " 'employ_7+years',\n",
       " 'sex_male',\n",
       " 'housing_own',\n",
       " 'housing_rent',\n",
       " 'tele_yes',\n",
       " 'foreign_german']"
      ]
     },
     "execution_count": 57,
     "metadata": {},
     "output_type": "execute_result"
    }
   ],
   "source": [
    "important_variables = get_imp_variables(logit_model)\n",
    "important_variables"
   ]
  },
  {
   "cell_type": "code",
   "execution_count": 63,
   "id": "1791ae54",
   "metadata": {},
   "outputs": [
    {
     "data": {
      "text/plain": [
       "24"
      ]
     },
     "execution_count": 63,
     "metadata": {},
     "output_type": "execute_result"
    }
   ],
   "source": [
    "#so out of 27, 24 are significant\n",
    "len(important_variables)"
   ]
  },
  {
   "cell_type": "code",
   "execution_count": 64,
   "id": "d2d72fde",
   "metadata": {},
   "outputs": [
    {
     "name": "stdout",
     "output_type": "stream",
     "text": [
      "Optimization terminated successfully.\n",
      "         Current function value: 0.471774\n",
      "         Iterations 7\n"
     ]
    }
   ],
   "source": [
    "final_logit = sm.Logit(Y_train,sm.add_constant(X_train[important_variables])).fit()"
   ]
  },
  {
   "cell_type": "code",
   "execution_count": 65,
   "id": "721abaac",
   "metadata": {},
   "outputs": [
    {
     "data": {
      "text/html": [
       "<table class=\"simpletable\">\n",
       "<tr>\n",
       "        <td>Model:</td>              <td>Logit</td>      <td>Pseudo R-squared:</td>    <td>0.226</td>  \n",
       "</tr>\n",
       "<tr>\n",
       "  <td>Dependent Variable:</td>      <td>Default</td>           <td>AIC:</td>         <td>708.4834</td> \n",
       "</tr>\n",
       "<tr>\n",
       "         <td>Date:</td>        <td>2023-07-08 09:14</td>       <td>BIC:</td>         <td>817.7093</td> \n",
       "</tr>\n",
       "<tr>\n",
       "   <td>No. Observations:</td>         <td>700</td>        <td>Log-Likelihood:</td>    <td>-330.24</td> \n",
       "</tr>\n",
       "<tr>\n",
       "       <td>Df Model:</td>             <td>23</td>            <td>LL-Null:</td>        <td>-426.75</td> \n",
       "</tr>\n",
       "<tr>\n",
       "     <td>Df Residuals:</td>           <td>676</td>         <td>LLR p-value:</td>    <td>7.8910e-29</td>\n",
       "</tr>\n",
       "<tr>\n",
       "      <td>Converged:</td>           <td>1.0000</td>           <td>Scale:</td>         <td>1.0000</td>  \n",
       "</tr>\n",
       "<tr>\n",
       "    <td>No. Iterations:</td>        <td>7.0000</td>              <td></td>               <td></td>     \n",
       "</tr>\n",
       "</table>\n",
       "<table class=\"simpletable\">\n",
       "<tr>\n",
       "              <td></td>               <th>Coef.</th>  <th>Std.Err.</th>    <th>z</th>     <th>P>|z|</th> <th>[0.025</th>  <th>0.975]</th> \n",
       "</tr>\n",
       "<tr>\n",
       "  <th>const</th>                     <td>1.0801</td>   <td>0.8600</td>  <td>1.2560</td>  <td>0.2091</td> <td>-0.6054</td> <td>2.7657</td> \n",
       "</tr>\n",
       "<tr>\n",
       "  <th>duration</th>                  <td>0.0174</td>   <td>0.0105</td>  <td>1.6505</td>  <td>0.0988</td> <td>-0.0033</td> <td>0.0381</td> \n",
       "</tr>\n",
       "<tr>\n",
       "  <th>amount</th>                    <td>0.0001</td>   <td>0.0000</td>  <td>2.5562</td>  <td>0.0106</td> <td>0.0000</td>  <td>0.0002</td> \n",
       "</tr>\n",
       "<tr>\n",
       "  <th>installment</th>               <td>0.3024</td>   <td>0.0991</td>  <td>3.0526</td>  <td>0.0023</td> <td>0.1082</td>  <td>0.4966</td> \n",
       "</tr>\n",
       "<tr>\n",
       "  <th>age</th>                       <td>-0.0297</td>  <td>0.0107</td>  <td>-2.7809</td> <td>0.0054</td> <td>-0.0506</td> <td>-0.0088</td>\n",
       "</tr>\n",
       "<tr>\n",
       "  <th>cards</th>                     <td>0.2293</td>   <td>0.1971</td>  <td>1.1632</td>  <td>0.2447</td> <td>-0.1570</td> <td>0.6155</td> \n",
       "</tr>\n",
       "<tr>\n",
       "  <th>checkingstatus1_DM0-200</th>   <td>-0.4278</td>  <td>0.2449</td>  <td>-1.7468</td> <td>0.0807</td> <td>-0.9078</td> <td>0.0522</td> \n",
       "</tr>\n",
       "<tr>\n",
       "  <th>checkingstatus1_DM200+</th>    <td>-0.9183</td>  <td>0.4354</td>  <td>-2.1091</td> <td>0.0349</td> <td>-1.7716</td> <td>-0.0649</td>\n",
       "</tr>\n",
       "<tr>\n",
       "  <th>checkingstatus1_NoAccount</th> <td>-1.5858</td>  <td>0.2619</td>  <td>-6.0552</td> <td>0.0000</td> <td>-2.0991</td> <td>-1.0725</td>\n",
       "</tr>\n",
       "<tr>\n",
       "  <th>history_poor</th>              <td>-0.7299</td>  <td>0.3182</td>  <td>-2.2939</td> <td>0.0218</td> <td>-1.3536</td> <td>-0.1063</td>\n",
       "</tr>\n",
       "<tr>\n",
       "  <th>history_terrible</th>          <td>-1.5228</td>  <td>0.3741</td>  <td>-4.0709</td> <td>0.0000</td> <td>-2.2560</td> <td>-0.7896</td>\n",
       "</tr>\n",
       "<tr>\n",
       "  <th>purpose_edu</th>               <td>0.4150</td>   <td>0.4979</td>  <td>0.8335</td>  <td>0.4046</td> <td>-0.5609</td> <td>1.3909</td> \n",
       "</tr>\n",
       "<tr>\n",
       "  <th>purpose_goods/repair</th>      <td>-0.4063</td>  <td>0.3315</td>  <td>-1.2256</td> <td>0.2203</td> <td>-1.0560</td> <td>0.2434</td> \n",
       "</tr>\n",
       "<tr>\n",
       "  <th>purpose_newcar</th>            <td>0.5202</td>   <td>0.3567</td>  <td>1.4585</td>  <td>0.1447</td> <td>-0.1788</td> <td>1.2193</td> \n",
       "</tr>\n",
       "<tr>\n",
       "  <th>purpose_usedcar</th>           <td>-1.0655</td>  <td>0.4682</td>  <td>-2.2755</td> <td>0.0229</td> <td>-1.9832</td> <td>-0.1478</td>\n",
       "</tr>\n",
       "<tr>\n",
       "  <th>savings_DM100-1000</th>        <td>-0.2157</td>  <td>0.2740</td>  <td>-0.7872</td> <td>0.4312</td> <td>-0.7528</td> <td>0.3214</td> \n",
       "</tr>\n",
       "<tr>\n",
       "  <th>savings_DM1000+</th>           <td>-0.7905</td>  <td>0.5842</td>  <td>-1.3531</td> <td>0.1760</td> <td>-1.9356</td> <td>0.3546</td> \n",
       "</tr>\n",
       "<tr>\n",
       "  <th>employ_1-7years</th>           <td>-0.3207</td>  <td>0.2343</td>  <td>-1.3690</td> <td>0.1710</td> <td>-0.7799</td> <td>0.1385</td> \n",
       "</tr>\n",
       "<tr>\n",
       "  <th>employ_7+years</th>            <td>-0.3436</td>  <td>0.3032</td>  <td>-1.1333</td> <td>0.2571</td> <td>-0.9379</td> <td>0.2506</td> \n",
       "</tr>\n",
       "<tr>\n",
       "  <th>sex_male</th>                  <td>-0.3419</td>  <td>0.2177</td>  <td>-1.5703</td> <td>0.1163</td> <td>-0.7687</td> <td>0.0848</td> \n",
       "</tr>\n",
       "<tr>\n",
       "  <th>housing_own</th>               <td>-0.7536</td>  <td>0.3415</td>  <td>-2.2067</td> <td>0.0273</td> <td>-1.4230</td> <td>-0.0843</td>\n",
       "</tr>\n",
       "<tr>\n",
       "  <th>housing_rent</th>              <td>-0.4523</td>  <td>0.4044</td>  <td>-1.1184</td> <td>0.2634</td> <td>-1.2450</td> <td>0.3404</td> \n",
       "</tr>\n",
       "<tr>\n",
       "  <th>tele_yes</th>                  <td>-0.2333</td>  <td>0.2167</td>  <td>-1.0766</td> <td>0.2816</td> <td>-0.6579</td> <td>0.1914</td> \n",
       "</tr>\n",
       "<tr>\n",
       "  <th>foreign_german</th>            <td>-1.4055</td>  <td>0.6887</td>  <td>-2.0408</td> <td>0.0413</td> <td>-2.7553</td> <td>-0.0557</td>\n",
       "</tr>\n",
       "</table>"
      ],
      "text/plain": [
       "<class 'statsmodels.iolib.summary2.Summary'>\n",
       "\"\"\"\n",
       "                             Results: Logit\n",
       "=========================================================================\n",
       "Model:                  Logit              Pseudo R-squared:   0.226     \n",
       "Dependent Variable:     Default            AIC:                708.4834  \n",
       "Date:                   2023-07-08 09:14   BIC:                817.7093  \n",
       "No. Observations:       700                Log-Likelihood:     -330.24   \n",
       "Df Model:               23                 LL-Null:            -426.75   \n",
       "Df Residuals:           676                LLR p-value:        7.8910e-29\n",
       "Converged:              1.0000             Scale:              1.0000    \n",
       "No. Iterations:         7.0000                                           \n",
       "-------------------------------------------------------------------------\n",
       "                           Coef.  Std.Err.    z    P>|z|   [0.025  0.975]\n",
       "-------------------------------------------------------------------------\n",
       "const                      1.0801   0.8600  1.2560 0.2091 -0.6054  2.7657\n",
       "duration                   0.0174   0.0105  1.6505 0.0988 -0.0033  0.0381\n",
       "amount                     0.0001   0.0000  2.5562 0.0106  0.0000  0.0002\n",
       "installment                0.3024   0.0991  3.0526 0.0023  0.1082  0.4966\n",
       "age                       -0.0297   0.0107 -2.7809 0.0054 -0.0506 -0.0088\n",
       "cards                      0.2293   0.1971  1.1632 0.2447 -0.1570  0.6155\n",
       "checkingstatus1_DM0-200   -0.4278   0.2449 -1.7468 0.0807 -0.9078  0.0522\n",
       "checkingstatus1_DM200+    -0.9183   0.4354 -2.1091 0.0349 -1.7716 -0.0649\n",
       "checkingstatus1_NoAccount -1.5858   0.2619 -6.0552 0.0000 -2.0991 -1.0725\n",
       "history_poor              -0.7299   0.3182 -2.2939 0.0218 -1.3536 -0.1063\n",
       "history_terrible          -1.5228   0.3741 -4.0709 0.0000 -2.2560 -0.7896\n",
       "purpose_edu                0.4150   0.4979  0.8335 0.4046 -0.5609  1.3909\n",
       "purpose_goods/repair      -0.4063   0.3315 -1.2256 0.2203 -1.0560  0.2434\n",
       "purpose_newcar             0.5202   0.3567  1.4585 0.1447 -0.1788  1.2193\n",
       "purpose_usedcar           -1.0655   0.4682 -2.2755 0.0229 -1.9832 -0.1478\n",
       "savings_DM100-1000        -0.2157   0.2740 -0.7872 0.4312 -0.7528  0.3214\n",
       "savings_DM1000+           -0.7905   0.5842 -1.3531 0.1760 -1.9356  0.3546\n",
       "employ_1-7years           -0.3207   0.2343 -1.3690 0.1710 -0.7799  0.1385\n",
       "employ_7+years            -0.3436   0.3032 -1.1333 0.2571 -0.9379  0.2506\n",
       "sex_male                  -0.3419   0.2177 -1.5703 0.1163 -0.7687  0.0848\n",
       "housing_own               -0.7536   0.3415 -2.2067 0.0273 -1.4230 -0.0843\n",
       "housing_rent              -0.4523   0.4044 -1.1184 0.2634 -1.2450  0.3404\n",
       "tele_yes                  -0.2333   0.2167 -1.0766 0.2816 -0.6579  0.1914\n",
       "foreign_german            -1.4055   0.6887 -2.0408 0.0413 -2.7553 -0.0557\n",
       "=========================================================================\n",
       "\n",
       "\"\"\""
      ]
     },
     "execution_count": 65,
     "metadata": {},
     "output_type": "execute_result"
    }
   ],
   "source": [
    "final_logit.summary2()"
   ]
  },
  {
   "cell_type": "code",
   "execution_count": 69,
   "id": "e2988e8a",
   "metadata": {},
   "outputs": [],
   "source": [
    "prediction_df = pd.DataFrame({\"actual\":Y_test,\n",
    "                              \"Predicted_prob\":final_logit.predict(\n",
    "                                sm.add_constant(X_test[important_variables]))})"
   ]
  },
  {
   "cell_type": "code",
   "execution_count": 70,
   "id": "41b09832",
   "metadata": {},
   "outputs": [
    {
     "data": {
      "text/html": [
       "<div>\n",
       "<style scoped>\n",
       "    .dataframe tbody tr th:only-of-type {\n",
       "        vertical-align: middle;\n",
       "    }\n",
       "\n",
       "    .dataframe tbody tr th {\n",
       "        vertical-align: top;\n",
       "    }\n",
       "\n",
       "    .dataframe thead th {\n",
       "        text-align: right;\n",
       "    }\n",
       "</style>\n",
       "<table border=\"1\" class=\"dataframe\">\n",
       "  <thead>\n",
       "    <tr style=\"text-align: right;\">\n",
       "      <th></th>\n",
       "      <th>actual</th>\n",
       "      <th>Predicted_prob</th>\n",
       "    </tr>\n",
       "  </thead>\n",
       "  <tbody>\n",
       "    <tr>\n",
       "      <th>557</th>\n",
       "      <td>1</td>\n",
       "      <td>0.391903</td>\n",
       "    </tr>\n",
       "    <tr>\n",
       "      <th>798</th>\n",
       "      <td>0</td>\n",
       "      <td>0.139355</td>\n",
       "    </tr>\n",
       "    <tr>\n",
       "      <th>977</th>\n",
       "      <td>0</td>\n",
       "      <td>0.378302</td>\n",
       "    </tr>\n",
       "    <tr>\n",
       "      <th>136</th>\n",
       "      <td>0</td>\n",
       "      <td>0.059329</td>\n",
       "    </tr>\n",
       "    <tr>\n",
       "      <th>575</th>\n",
       "      <td>0</td>\n",
       "      <td>0.071134</td>\n",
       "    </tr>\n",
       "    <tr>\n",
       "      <th>544</th>\n",
       "      <td>0</td>\n",
       "      <td>0.061021</td>\n",
       "    </tr>\n",
       "    <tr>\n",
       "      <th>332</th>\n",
       "      <td>1</td>\n",
       "      <td>0.892323</td>\n",
       "    </tr>\n",
       "    <tr>\n",
       "      <th>917</th>\n",
       "      <td>1</td>\n",
       "      <td>0.393456</td>\n",
       "    </tr>\n",
       "    <tr>\n",
       "      <th>678</th>\n",
       "      <td>0</td>\n",
       "      <td>0.277519</td>\n",
       "    </tr>\n",
       "    <tr>\n",
       "      <th>363</th>\n",
       "      <td>0</td>\n",
       "      <td>0.073341</td>\n",
       "    </tr>\n",
       "  </tbody>\n",
       "</table>\n",
       "</div>"
      ],
      "text/plain": [
       "     actual  Predicted_prob\n",
       "557       1        0.391903\n",
       "798       0        0.139355\n",
       "977       0        0.378302\n",
       "136       0        0.059329\n",
       "575       0        0.071134\n",
       "544       0        0.061021\n",
       "332       1        0.892323\n",
       "917       1        0.393456\n",
       "678       0        0.277519\n",
       "363       0        0.073341"
      ]
     },
     "execution_count": 70,
     "metadata": {},
     "output_type": "execute_result"
    }
   ],
   "source": [
    "prediction_df.sample(10,random_state=42)"
   ]
  },
  {
   "cell_type": "code",
   "execution_count": 72,
   "id": "77fc6b3d",
   "metadata": {},
   "outputs": [
    {
     "data": {
      "text/html": [
       "<div>\n",
       "<style scoped>\n",
       "    .dataframe tbody tr th:only-of-type {\n",
       "        vertical-align: middle;\n",
       "    }\n",
       "\n",
       "    .dataframe tbody tr th {\n",
       "        vertical-align: top;\n",
       "    }\n",
       "\n",
       "    .dataframe thead th {\n",
       "        text-align: right;\n",
       "    }\n",
       "</style>\n",
       "<table border=\"1\" class=\"dataframe\">\n",
       "  <thead>\n",
       "    <tr style=\"text-align: right;\">\n",
       "      <th></th>\n",
       "      <th>actual</th>\n",
       "      <th>Predicted_prob</th>\n",
       "      <th>predicted</th>\n",
       "    </tr>\n",
       "  </thead>\n",
       "  <tbody>\n",
       "    <tr>\n",
       "      <th>557</th>\n",
       "      <td>1</td>\n",
       "      <td>0.391903</td>\n",
       "      <td>0</td>\n",
       "    </tr>\n",
       "    <tr>\n",
       "      <th>798</th>\n",
       "      <td>0</td>\n",
       "      <td>0.139355</td>\n",
       "      <td>0</td>\n",
       "    </tr>\n",
       "    <tr>\n",
       "      <th>977</th>\n",
       "      <td>0</td>\n",
       "      <td>0.378302</td>\n",
       "      <td>0</td>\n",
       "    </tr>\n",
       "    <tr>\n",
       "      <th>136</th>\n",
       "      <td>0</td>\n",
       "      <td>0.059329</td>\n",
       "      <td>0</td>\n",
       "    </tr>\n",
       "    <tr>\n",
       "      <th>575</th>\n",
       "      <td>0</td>\n",
       "      <td>0.071134</td>\n",
       "      <td>0</td>\n",
       "    </tr>\n",
       "    <tr>\n",
       "      <th>544</th>\n",
       "      <td>0</td>\n",
       "      <td>0.061021</td>\n",
       "      <td>0</td>\n",
       "    </tr>\n",
       "    <tr>\n",
       "      <th>332</th>\n",
       "      <td>1</td>\n",
       "      <td>0.892323</td>\n",
       "      <td>1</td>\n",
       "    </tr>\n",
       "    <tr>\n",
       "      <th>917</th>\n",
       "      <td>1</td>\n",
       "      <td>0.393456</td>\n",
       "      <td>0</td>\n",
       "    </tr>\n",
       "    <tr>\n",
       "      <th>678</th>\n",
       "      <td>0</td>\n",
       "      <td>0.277519</td>\n",
       "      <td>0</td>\n",
       "    </tr>\n",
       "    <tr>\n",
       "      <th>363</th>\n",
       "      <td>0</td>\n",
       "      <td>0.073341</td>\n",
       "      <td>0</td>\n",
       "    </tr>\n",
       "  </tbody>\n",
       "</table>\n",
       "</div>"
      ],
      "text/plain": [
       "     actual  Predicted_prob  predicted\n",
       "557       1        0.391903          0\n",
       "798       0        0.139355          0\n",
       "977       0        0.378302          0\n",
       "136       0        0.059329          0\n",
       "575       0        0.071134          0\n",
       "544       0        0.061021          0\n",
       "332       1        0.892323          1\n",
       "917       1        0.393456          0\n",
       "678       0        0.277519          0\n",
       "363       0        0.073341          0"
      ]
     },
     "execution_count": 72,
     "metadata": {},
     "output_type": "execute_result"
    }
   ],
   "source": [
    "prediction_df['predicted'] = prediction_df.Predicted_prob.map(\n",
    "                                lambda x:1 if x>0.5 else 0)\n",
    "prediction_df.sample(10,random_state=42)"
   ]
  },
  {
   "cell_type": "code",
   "execution_count": 75,
   "id": "509c69b2",
   "metadata": {},
   "outputs": [],
   "source": [
    "from sklearn import metrics\n",
    "# def draw_confusion_matrix(actual,predicted):\n",
    "#     cm = metrics.confusion_matrix(actual,predicted,[1,0])\n",
    "#     sns.heatmap(cm,annot=True,fmt='.2f',\n",
    "#     xticklabels=[\"Bad credit\",\"Good credit\"],\n",
    "#     yticklabels=[\"Bad credit\",\"Good credit\"])\n",
    "#     plt.xlabel('Predicted Value')\n",
    "#     plt.ylabel('True Value')\n",
    "#     plt.show()\n",
    "    \n",
    "def draw_confusion_matrix(actual, predicted):\n",
    "    cm = metrics.confusion_matrix(actual, predicted)\n",
    "    sns.heatmap(cm, annot=True, fmt='.2f',\n",
    "                xticklabels=[\"Bad credit\", \"Good credit\"],\n",
    "                yticklabels=[\"Bad credit\", \"Good credit\"])\n",
    "    plt.xlabel('Predicted Value')\n",
    "    plt.ylabel('True Value')\n",
    "    plt.show()\n",
    "    \n"
   ]
  },
  {
   "cell_type": "code",
   "execution_count": 76,
   "id": "a8630810",
   "metadata": {},
   "outputs": [
    {
     "data": {
      "image/png": "[encoded data removed]",
      "text/plain": [
       "<Figure size 640x480 with 2 Axes>"
      ]
     },
     "metadata": {},
     "output_type": "display_data"
    }
   ],
   "source": [
    "draw_confusion_matrix(prediction_df.actual,prediction_df.predicted)"
   ]
  },
  {
   "cell_type": "markdown",
   "id": "aafe725b",
   "metadata": {},
   "source": [
    "## Inference\n",
    "- Out of 209(190+19) bad credits 190 have been correctly classified as bad credit\n",
    "- Out of 94(55+36) bad credits 55 have been correctly classified as bad credit\n",
    "\n",
    "# Here is the tip to understand the Confustion matrix\n",
    "## Confusion Matrix :\n",
    "### Left top Quadrant : True Positives\n",
    "- Actual bad credit and is correctly classified as bad credit\n",
    "### Right top Quadrant : False Negatives\n",
    "- Actual bad credit and is incorrectly classified as good credit\n",
    "### Left down Quadrant : False Positives\n",
    "- Actual good credit and is incorrectly classified as bad credit\n",
    "### Right down Quadrant : True Negatives\n",
    "- Actual good credit and is correctly classified as good credit"
   ]
  },
  {
   "cell_type": "code",
   "execution_count": 77,
   "id": "d3cda51d",
   "metadata": {},
   "outputs": [
    {
     "name": "stdout",
     "output_type": "stream",
     "text": [
      "              precision    recall  f1-score   support\n",
      "\n",
      "           0       0.78      0.91      0.84       209\n",
      "           1       0.65      0.40      0.49        91\n",
      "\n",
      "    accuracy                           0.75       300\n",
      "   macro avg       0.72      0.65      0.67       300\n",
      "weighted avg       0.74      0.75      0.73       300\n",
      "\n"
     ]
    }
   ],
   "source": [
    "print(metrics.classification_report(prediction_df.actual,prediction_df.predicted))"
   ]
  },
  {
   "cell_type": "code",
   "execution_count": 79,
   "id": "aa17355f",
   "metadata": {},
   "outputs": [
    {
     "data": {
      "image/png": "[encoded data removed]",
      "text/plain": [
       "<Figure size 800x600 with 1 Axes>"
      ]
     },
     "metadata": {},
     "output_type": "display_data"
    }
   ],
   "source": [
    "plt.figure(figsize=(8,6))\n",
    "sns.distplot(prediction_df[prediction_df.actual==1][\"Predicted_prob\"],\n",
    "            kde=False,color='b',\n",
    "             label='Bad Credit')\n",
    "sns.distplot(prediction_df[prediction_df.actual==0][\"Predicted_prob\"],\n",
    "            kde=False,color='g',\n",
    "             label='Good Credit')\n",
    "plt.legend()\n",
    "plt.show()"
   ]
  },
  {
   "cell_type": "markdown",
   "id": "694a49e1",
   "metadata": {},
   "source": [
    "## Inference\n",
    "- Larger the overlap between predicted probabilities for different classes, higher will be the misclassifications"
   ]
  },
  {
   "cell_type": "code",
   "execution_count": 82,
   "id": "9a503400",
   "metadata": {},
   "outputs": [],
   "source": [
    "def draw_ROC(actual,probs):\n",
    "    fpr,tpr,thresholds = metrics.roc_curve(actual,probs,drop_intermediate=False)\n",
    "\n",
    "    auc_score = metrics.roc_auc_score(actual,probs)\n",
    "    plt.figure(figsize=(8,6))\n",
    "    plt.plot(fpr,tpr,label='ROC curve(area = %0.2f)'%auc_score)\n",
    "    plt.plot([0,1],[0,1],'k--')\n",
    "    plt.xlim([0.0,1.0])\n",
    "    plt.ylim([0.0,1.05])\n",
    "    plt.xlabel('False Positive Rate or [1-True Negative Rate]')\n",
    "    plt.ylabel('True Positive Rate')\n",
    "    plt.legend(loc=\"lower right\")\n",
    "    plt.show()\n",
    "    return fpr,tpr,thresholds"
   ]
  },
  {
   "cell_type": "code",
   "execution_count": 83,
   "id": "037a4761",
   "metadata": {},
   "outputs": [
    {
     "data": {
      "image/png": "[encoded data removed]",
      "text/plain": [
       "<Figure size 800x600 with 1 Axes>"
      ]
     },
     "metadata": {},
     "output_type": "display_data"
    }
   ],
   "source": [
    "fpr,tpr,thresholds = draw_ROC(prediction_df.actual,prediction_df.Predicted_prob)"
   ]
  },
  {
   "cell_type": "markdown",
   "id": "79f26c20",
   "metadata": {},
   "source": [
    "## Inference : \n",
    "- AUC score of atleast 0.7 is required for practical application of the model\n",
    "- AUC score more than 0.9 is an outstanding model\n",
    "## Note :\n",
    "- AUC will be more than 0.9 when the data is imbalanced\n",
    "- But in this case either the sensitivity or specificity may be poor.\n",
    "- In this case ROC curve area is 0.79 which is a fairly good model."
   ]
  },
  {
   "cell_type": "code",
   "execution_count": 84,
   "id": "7639d7b4",
   "metadata": {},
   "outputs": [
    {
     "data": {
      "text/plain": [
       "0.79"
      ]
     },
     "execution_count": 84,
     "metadata": {},
     "output_type": "execute_result"
    }
   ],
   "source": [
    "auc_score = metrics.roc_auc_score(prediction_df.actual,prediction_df.Predicted_prob)\n",
    "round(float(auc_score),2)"
   ]
  },
  {
   "cell_type": "markdown",
   "id": "b6855a4e",
   "metadata": {},
   "source": [
    "## We can improve the overall accuracy, sensitivity and specificity by choosing the optimal Classification Cut-off\n",
    "## We can do this using any of the two methods : \n",
    "1. Youden's index\n",
    "2. Cost-based approach"
   ]
  },
  {
   "cell_type": "markdown",
   "id": "a82f1406",
   "metadata": {},
   "source": [
    "# Youden's index : \n",
    "Youden's Index = J-Statistic = Max(Sensitivity(p) + Specificity(p)-1)\n",
    "- We have to select the cut-off probability for which(TPR+TNR-1) is maximum"
   ]
  },
  {
   "cell_type": "code",
   "execution_count": 85,
   "id": "1128b1b6",
   "metadata": {},
   "outputs": [
    {
     "data": {
      "text/html": [
       "<div>\n",
       "<style scoped>\n",
       "    .dataframe tbody tr th:only-of-type {\n",
       "        vertical-align: middle;\n",
       "    }\n",
       "\n",
       "    .dataframe tbody tr th {\n",
       "        vertical-align: top;\n",
       "    }\n",
       "\n",
       "    .dataframe thead th {\n",
       "        text-align: right;\n",
       "    }\n",
       "</style>\n",
       "<table border=\"1\" class=\"dataframe\">\n",
       "  <thead>\n",
       "    <tr style=\"text-align: right;\">\n",
       "      <th></th>\n",
       "      <th>tpr</th>\n",
       "      <th>fpr</th>\n",
       "      <th>thresholds</th>\n",
       "      <th>diff</th>\n",
       "    </tr>\n",
       "  </thead>\n",
       "  <tbody>\n",
       "    <tr>\n",
       "      <th>148</th>\n",
       "      <td>0.813187</td>\n",
       "      <td>0.354067</td>\n",
       "      <td>0.223117</td>\n",
       "      <td>0.459120</td>\n",
       "    </tr>\n",
       "    <tr>\n",
       "      <th>149</th>\n",
       "      <td>0.813187</td>\n",
       "      <td>0.358852</td>\n",
       "      <td>0.222209</td>\n",
       "      <td>0.454335</td>\n",
       "    </tr>\n",
       "    <tr>\n",
       "      <th>150</th>\n",
       "      <td>0.813187</td>\n",
       "      <td>0.363636</td>\n",
       "      <td>0.220632</td>\n",
       "      <td>0.449550</td>\n",
       "    </tr>\n",
       "    <tr>\n",
       "      <th>160</th>\n",
       "      <td>0.846154</td>\n",
       "      <td>0.397129</td>\n",
       "      <td>0.194682</td>\n",
       "      <td>0.449025</td>\n",
       "    </tr>\n",
       "    <tr>\n",
       "      <th>147</th>\n",
       "      <td>0.802198</td>\n",
       "      <td>0.354067</td>\n",
       "      <td>0.223284</td>\n",
       "      <td>0.448131</td>\n",
       "    </tr>\n",
       "  </tbody>\n",
       "</table>\n",
       "</div>"
      ],
      "text/plain": [
       "          tpr       fpr  thresholds      diff\n",
       "148  0.813187  0.354067    0.223117  0.459120\n",
       "149  0.813187  0.358852    0.222209  0.454335\n",
       "150  0.813187  0.363636    0.220632  0.449550\n",
       "160  0.846154  0.397129    0.194682  0.449025\n",
       "147  0.802198  0.354067    0.223284  0.448131"
      ]
     },
     "execution_count": 85,
     "metadata": {},
     "output_type": "execute_result"
    }
   ],
   "source": [
    "tpr_fpr = pd.DataFrame({\n",
    "    'tpr':tpr,\n",
    "    'fpr':fpr,\n",
    "    'thresholds':thresholds\n",
    "})\n",
    "tpr_fpr['diff'] = tpr_fpr.tpr - tpr_fpr.fpr\n",
    "tpr_fpr.sort_values('diff',ascending=False)[0:5]"
   ]
  },
  {
   "cell_type": "markdown",
   "id": "cc8fe761",
   "metadata": {},
   "source": [
    "## Inference : \n",
    "- From the above we can see that the optimum cutoff probability is 0.35\n",
    "- So now let us classify all the observations beyond 0.35 predicted probability as bad credits and remaining as good"
   ]
  },
  {
   "cell_type": "code",
   "execution_count": 88,
   "id": "5b7cfbf7",
   "metadata": {},
   "outputs": [],
   "source": [
    "prediction_df['newly_predicted'] = prediction_df.Predicted_prob.map(lambda x:1 if x>0.35 else 0)"
   ]
  },
  {
   "cell_type": "code",
   "execution_count": 89,
   "id": "b49b6957",
   "metadata": {},
   "outputs": [
    {
     "data": {
      "image/png": "[encoded data removed]",
      "text/plain": [
       "<Figure size 640x480 with 2 Axes>"
      ]
     },
     "metadata": {},
     "output_type": "display_data"
    }
   ],
   "source": [
    "draw_confusion_matrix(prediction_df.actual,prediction_df.newly_predicted)"
   ]
  },
  {
   "cell_type": "code",
   "execution_count": 91,
   "id": "ff47f3ac",
   "metadata": {},
   "outputs": [],
   "source": [
    "import pickle\n",
    "model = final_logit\n",
    "with open('LR_model.pkl','wb')as file:\n",
    "    pickle.dump(model,file)"
   ]
  },
  {
   "cell_type": "code",
   "execution_count": null,
   "id": "d03a66a5",
   "metadata": {},
   "outputs": [],
   "source": []
  },
  {
   "cell_type": "code",
   "execution_count": null,
   "id": "de722b13",
   "metadata": {},
   "outputs": [],
   "source": []
  }
 ],
 "metadata": {
  "kernelspec": {
   "display_name": "Python 3 (ipykernel)",
   "language": "python",
   "name": "python3"
  },
  "language_info": {
   "codemirror_mode": {
    "name": "ipython",
    "version": 3
   },
   "file_extension": ".py",
   "mimetype": "text/x-python",
   "name": "python",
   "nbconvert_exporter": "python",
   "pygments_lexer": "ipython3",
   "version": "3.10.9"
  }
 },
 "nbformat": 4,
 "nbformat_minor": 5
}
